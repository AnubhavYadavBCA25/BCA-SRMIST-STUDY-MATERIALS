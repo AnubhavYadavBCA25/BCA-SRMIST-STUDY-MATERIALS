{
 "cells": [
  {
   "cell_type": "code",
   "execution_count": 1,
   "id": "9e813378",
   "metadata": {},
   "outputs": [],
   "source": [
    "#Practical 1"
   ]
  },
  {
   "cell_type": "code",
   "execution_count": 2,
   "id": "8c2bcf9c",
   "metadata": {},
   "outputs": [
    {
     "name": "stdout",
     "output_type": "stream",
     "text": [
      "Enter your 1st number:3\n",
      "Enter your 2nd number:3\n",
      "Addition of num1 and num2 is  6\n"
     ]
    }
   ],
   "source": [
    "num1=int(input(\"Enter your 1st number:\"))\n",
    "num2=int(input(\"Enter your 2nd number:\"))\n",
    "total=num1+num2\n",
    "print(\"Addition of num1 and num2 is \",total)"
   ]
  },
  {
   "cell_type": "code",
   "execution_count": 3,
   "id": "b510a688",
   "metadata": {},
   "outputs": [],
   "source": [
    "#Practical 2"
   ]
  },
  {
   "cell_type": "code",
   "execution_count": 8,
   "id": "f038aae5",
   "metadata": {},
   "outputs": [
    {
     "name": "stdout",
     "output_type": "stream",
     "text": [
      "Enter the number:5\n",
      "Factorial of 5 is 120\n"
     ]
    }
   ],
   "source": [
    "num=int(input(\"Enter the number:\"))\n",
    "factorial=1\n",
    "\n",
    "if num==0 or num==1:\n",
    "    print(\"Factorial of 0 and 1 is 1.\")\n",
    "    \n",
    "elif num<0:\n",
    "    print(\"Factorial of negative number is does't exist.\")\n",
    "\n",
    "else:\n",
    "    for i in range(1,num+1):\n",
    "        factorial=factorial*i\n",
    "    print(\"Factorial of\",num,\"is\",factorial)"
   ]
  },
  {
   "cell_type": "code",
   "execution_count": 9,
   "id": "6e1644d3",
   "metadata": {},
   "outputs": [],
   "source": [
    "#Practical 3"
   ]
  },
  {
   "cell_type": "code",
   "execution_count": 14,
   "id": "95c1e358",
   "metadata": {},
   "outputs": [
    {
     "name": "stdout",
     "output_type": "stream",
     "text": [
      "Enter the number:2\n",
      "Here is the table of 2\n",
      "2 x 1 = 2\n",
      "2 x 2 = 4\n",
      "2 x 3 = 6\n",
      "2 x 4 = 8\n",
      "2 x 5 = 10\n",
      "2 x 6 = 12\n",
      "2 x 7 = 14\n",
      "2 x 8 = 16\n",
      "2 x 9 = 18\n",
      "2 x 10 = 20\n"
     ]
    }
   ],
   "source": [
    "num=int(input(\"Enter the number:\"))\n",
    "print(\"Here is the table of\",num)\n",
    "for i in range(1,11):\n",
    "    table=num*i\n",
    "    print(num,'x',i,'=',table)"
   ]
  },
  {
   "cell_type": "code",
   "execution_count": 15,
   "id": "a21e2dad",
   "metadata": {},
   "outputs": [],
   "source": [
    "#Practical 4"
   ]
  },
  {
   "cell_type": "code",
   "execution_count": 17,
   "id": "f811257e",
   "metadata": {},
   "outputs": [
    {
     "name": "stdout",
     "output_type": "stream",
     "text": [
      "Enter the number:5\n",
      "5 is odd number.\n"
     ]
    }
   ],
   "source": [
    "num=int(input(\"Enter the number:\"))\n",
    "if num%2==0:\n",
    "    print(num,\"is even number.\")\n",
    "else:\n",
    "    print(num,\"is odd number.\")"
   ]
  },
  {
   "cell_type": "code",
   "execution_count": 18,
   "id": "ae3787f3",
   "metadata": {},
   "outputs": [],
   "source": [
    "#Practical 5"
   ]
  },
  {
   "cell_type": "code",
   "execution_count": 20,
   "id": "a7ffe0e6",
   "metadata": {},
   "outputs": [
    {
     "name": "stdout",
     "output_type": "stream",
     "text": [
      "[1 2 3 4 5]\n",
      "1\n"
     ]
    }
   ],
   "source": [
    "import numpy as np\n",
    "arr=np.array([1,2,3,4,5])\n",
    "print(arr)\n",
    "print(arr.ndim)"
   ]
  },
  {
   "cell_type": "code",
   "execution_count": 21,
   "id": "b99d2e1d",
   "metadata": {},
   "outputs": [],
   "source": [
    "#Practical 6"
   ]
  },
  {
   "cell_type": "code",
   "execution_count": 27,
   "id": "45f3ea13",
   "metadata": {},
   "outputs": [
    {
     "name": "stdout",
     "output_type": "stream",
     "text": [
      "[3 4 5]\n"
     ]
    }
   ],
   "source": [
    "import numpy as np\n",
    "arr1=np.array([1,2,3,4,5,6,7,8])\n",
    "print(arr1[2:5])"
   ]
  },
  {
   "cell_type": "code",
   "execution_count": 28,
   "id": "d76112b3",
   "metadata": {},
   "outputs": [],
   "source": [
    "#Practical 7"
   ]
  },
  {
   "cell_type": "code",
   "execution_count": 32,
   "id": "29399870",
   "metadata": {},
   "outputs": [
    {
     "name": "stdout",
     "output_type": "stream",
     "text": [
      "3.141592653589793\n",
      "1000000.0\n",
      "1000.0\n"
     ]
    }
   ],
   "source": [
    "from scipy import constants\n",
    "print(constants.pi)\n",
    "print(constants.mega)\n",
    "print(constants.kilo)"
   ]
  },
  {
   "cell_type": "code",
   "execution_count": 33,
   "id": "d7994d2e",
   "metadata": {},
   "outputs": [],
   "source": [
    "#Practical 8"
   ]
  },
  {
   "cell_type": "code",
   "execution_count": 34,
   "id": "d1e0b816",
   "metadata": {},
   "outputs": [
    {
     "name": "stdout",
     "output_type": "stream",
     "text": [
      "[-0.73908513]\n"
     ]
    }
   ],
   "source": [
    "from scipy.optimize import root\n",
    "from math import cos\n",
    "\n",
    "def eqn(x):\n",
    "    return x+cos(x)\n",
    "my_root=root(eqn,0)\n",
    "print(my_root.x)"
   ]
  },
  {
   "cell_type": "code",
   "execution_count": 35,
   "id": "585121a6",
   "metadata": {},
   "outputs": [],
   "source": [
    "#Practical 9"
   ]
  },
  {
   "cell_type": "code",
   "execution_count": 39,
   "id": "6a9ffecf",
   "metadata": {},
   "outputs": [
    {
     "name": "stdout",
     "output_type": "stream",
     "text": [
      "  Names  Marks\n",
      "0   ABC     75\n",
      "1   PQR     60\n",
      "2   XYZ     95\n"
     ]
    }
   ],
   "source": [
    "import pandas as pd\n",
    "data={\"Names\":[\"ABC\",\"PQR\",\"XYZ\"],\n",
    "     \"Marks\":[75,60,95]}\n",
    "df=pd.DataFrame(data)\n",
    "print(df)"
   ]
  },
  {
   "cell_type": "code",
   "execution_count": 40,
   "id": "9a43e277",
   "metadata": {},
   "outputs": [],
   "source": [
    "#Practical 10"
   ]
  },
  {
   "cell_type": "code",
   "execution_count": 41,
   "id": "a8f6f912",
   "metadata": {},
   "outputs": [
    {
     "name": "stdout",
     "output_type": "stream",
     "text": [
      "0    23\n",
      "1    34\n",
      "2    56\n",
      "dtype: int64\n"
     ]
    }
   ],
   "source": [
    "import pandas as pd\n",
    "data=[23,34,56]\n",
    "df=pd.Series(data)\n",
    "print(df)"
   ]
  },
  {
   "cell_type": "code",
   "execution_count": 42,
   "id": "5da52964",
   "metadata": {},
   "outputs": [],
   "source": [
    "#Practical 11"
   ]
  },
  {
   "cell_type": "code",
   "execution_count": 44,
   "id": "c00a7136",
   "metadata": {},
   "outputs": [
    {
     "name": "stdout",
     "output_type": "stream",
     "text": [
      "Feature names: ['sepal length (cm)', 'sepal width (cm)', 'petal length (cm)', 'petal width (cm)']\n",
      "Target names: ['setosa' 'versicolor' 'virginica']\n",
      "First 5 rows of x:\n",
      " [[5.1 3.5 1.4 0.2]\n",
      " [4.9 3.  1.4 0.2]\n",
      " [4.7 3.2 1.3 0.2]\n",
      " [4.6 3.1 1.5 0.2]\n",
      " [5.  3.6 1.4 0.2]]\n"
     ]
    }
   ],
   "source": [
    "from sklearn.datasets import load_iris\n",
    "iris=load_iris()\n",
    "x=iris.data\n",
    "y=iris.target\n",
    "feature_name=iris.feature_names\n",
    "target_name=iris.target_names\n",
    "print(\"Feature names:\",feature_name)\n",
    "print(\"Target names:\",target_name)\n",
    "print(\"First 5 rows of x:\\n\",x[:5])"
   ]
  },
  {
   "cell_type": "code",
   "execution_count": 45,
   "id": "58f0f31d",
   "metadata": {},
   "outputs": [],
   "source": [
    "#Practical 12"
   ]
  },
  {
   "cell_type": "code",
   "execution_count": 49,
   "id": "dce1fd42",
   "metadata": {},
   "outputs": [
    {
     "name": "stdout",
     "output_type": "stream",
     "text": [
      "Accuracy: 0.9833333333333333\n",
      "Predictions: ['versicolor', 'virginica']\n"
     ]
    }
   ],
   "source": [
    "from sklearn.datasets import load_iris\n",
    "from sklearn.neighbors import KNeighborsClassifier\n",
    "from sklearn import metrics\n",
    "iris=load_iris()\n",
    "x=iris.data\n",
    "y=iris.target\n",
    "\n",
    "from sklearn.model_selection import train_test_split\n",
    "x_train,x_test,y_train,y_test=train_test_split(x,y,test_size=0.4,random_state=1)\n",
    "classifier_knn=KNeighborsClassifier(n_neighbors=3)\n",
    "classifier_knn.fit(x_train,y_train)\n",
    "y_pred=classifier_knn.predict(x_test)\n",
    "\n",
    "print(\"Accuracy:\",metrics.accuracy_score(y_test,y_pred))\n",
    "sample=[[5,5,3,2],[2,3,4,5]]\n",
    "preds=classifier_knn.predict(sample)\n",
    "pred_species=[iris.target_names[i] for i in preds]\n",
    "print(\"Predictions:\",pred_species)"
   ]
  },
  {
   "cell_type": "code",
   "execution_count": 50,
   "id": "fef290e4",
   "metadata": {},
   "outputs": [],
   "source": [
    "#Practical 13"
   ]
  },
  {
   "cell_type": "code",
   "execution_count": 54,
   "id": "85f3f8cf",
   "metadata": {},
   "outputs": [],
   "source": [
    "from tensorflow.keras.models import Sequential\n",
    "from tensorflow.keras.layers import Dense\n",
    "from sklearn.model_selection import train_test_split\n",
    "import numpy\n",
    "# fix random seed for reproducibility\n",
    "seed = 7\n",
    "numpy.random.seed(seed)\n",
    "# load pima indians dataset\n",
    "dataset = numpy.loadtxt(\"pima-indians-diabetes.csv\", delimiter=\",\")\n",
    "# split into input (X) and output (Y) variables\n",
    "X = dataset[:,0:8]\n",
    "Y = dataset[:,8]\n",
    "# split into 67% for train and 33% for test\n",
    "X_train, X_test, y_train, y_test = train_test_split(X, Y, test_size=0.33, \n",
    "random_state=seed)\n",
    "# create model\n",
    "model = Sequential()\n",
    "model.add(Dense(12, input_dim=8, activation='relu'))\n",
    "model.add(Dense(8, activation='relu'))\n",
    "model.add(Dense(1, activation='sigmoid'))\n",
    "# Compile model\n",
    "model.compile(loss='binary_crossentropy', optimizer='adam', metrics=['accuracy'])\n",
    "# Fit the model\n",
    "model.fit(X_train, y_train, validation_data=(X_test,y_test), epochs=150, batch_size=10)"
   ]
  },
  {
   "cell_type": "code",
   "execution_count": 55,
   "id": "17a57705",
   "metadata": {},
   "outputs": [],
   "source": [
    "#Practical 14"
   ]
  },
  {
   "cell_type": "code",
   "execution_count": 57,
   "id": "16a4951f",
   "metadata": {},
   "outputs": [
    {
     "name": "stdout",
     "output_type": "stream",
     "text": [
      "['Hello!', 'This is a nltk program']\n",
      "['Hello', '!', 'This', 'is', 'a', 'nltk', 'program']\n"
     ]
    }
   ],
   "source": [
    "from nltk.tokenize import sent_tokenize,word_tokenize\n",
    "text=\"Hello! This is a nltk program\"\n",
    "print(sent_tokenize(text))\n",
    "print(word_tokenize(text))"
   ]
  },
  {
   "cell_type": "code",
   "execution_count": 58,
   "id": "6d7daa34",
   "metadata": {},
   "outputs": [],
   "source": [
    "#Practical 15"
   ]
  },
  {
   "cell_type": "code",
   "execution_count": 63,
   "id": "bbaf605d",
   "metadata": {},
   "outputs": [
    {
     "name": "stdout",
     "output_type": "stream",
     "text": [
      "Enter your sentence:This a python programmer and data science student.\n",
      "['This', 'python', 'programmer', 'data', 'science', 'student', '.']\n"
     ]
    }
   ],
   "source": [
    "from nltk.corpus import stopwords\n",
    "from nltk.tokenize import word_tokenize\n",
    "stop_words=set(stopwords.words(\"english\"))\n",
    "data=input(\"Enter your sentence:\")\n",
    "words=word_tokenize(data)\n",
    "filter_words=[]\n",
    "\n",
    "for i in words:\n",
    "    if i not in stop_words:\n",
    "        filter_words.append(i)\n",
    "print(filter_words)"
   ]
  },
  {
   "cell_type": "code",
   "execution_count": 64,
   "id": "bb275775",
   "metadata": {},
   "outputs": [],
   "source": [
    "#Practical 16"
   ]
  },
  {
   "cell_type": "code",
   "execution_count": 66,
   "id": "b3385fef",
   "metadata": {},
   "outputs": [
    {
     "data": {
      "text/plain": [
       "'car'"
      ]
     },
     "execution_count": 66,
     "metadata": {},
     "output_type": "execute_result"
    }
   ],
   "source": [
    "from nltk.stem import WordNetLemmatizer\n",
    "lemmatizer=WordNetLemmatizer()\n",
    "lemmatizer.lemmatize('cars')"
   ]
  },
  {
   "cell_type": "code",
   "execution_count": 67,
   "id": "de105ec6",
   "metadata": {},
   "outputs": [],
   "source": [
    "#Practical 17"
   ]
  },
  {
   "cell_type": "code",
   "execution_count": 70,
   "id": "3a31da61",
   "metadata": {},
   "outputs": [
    {
     "name": "stdout",
     "output_type": "stream",
     "text": [
      "game : game\n",
      "games : game\n",
      "gaming : game\n"
     ]
    }
   ],
   "source": [
    "from nltk.stem import PorterStemmer\n",
    "ps=PorterStemmer()\n",
    "words=['game','games','gaming']\n",
    "for i in words:\n",
    "    print(i,\":\",ps.stem(i))"
   ]
  },
  {
   "cell_type": "code",
   "execution_count": 71,
   "id": "dfd80415",
   "metadata": {},
   "outputs": [],
   "source": [
    "#Practical 18"
   ]
  },
  {
   "cell_type": "code",
   "execution_count": 72,
   "id": "175cc519",
   "metadata": {},
   "outputs": [
    {
     "name": "stdout",
     "output_type": "stream",
     "text": [
      "[('This', 'DT'), ('is', 'VBZ'), ('a', 'DT'), ('Program', 'NN')]\n"
     ]
    }
   ],
   "source": [
    "from nltk.tokenize import word_tokenize\n",
    "sentence=\"This is a Program\"\n",
    "print(nltk.pos_tag(word_tokenize(sentence)))"
   ]
  },
  {
   "cell_type": "code",
   "execution_count": 73,
   "id": "ee933462",
   "metadata": {},
   "outputs": [],
   "source": [
    "#Practical 19"
   ]
  },
  {
   "cell_type": "code",
   "execution_count": 77,
   "id": "ea99551e",
   "metadata": {},
   "outputs": [
    {
     "data": {
      "image/png": "[encoded data removed]",
      "text/plain": [
       "<Figure size 640x480 with 1 Axes>"
      ]
     },
     "metadata": {},
     "output_type": "display_data"
    }
   ],
   "source": [
    "import matplotlib.pyplot as plt\n",
    "import numpy as np\n",
    "x=np.array([23,65,44,18,35])\n",
    "y=np.array([77,34,71,34,11])\n",
    "plt.scatter(x,y)\n",
    "plt.show()"
   ]
  },
  {
   "cell_type": "code",
   "execution_count": 78,
   "id": "96bbd605",
   "metadata": {},
   "outputs": [],
   "source": [
    "#Practical 20"
   ]
  },
  {
   "cell_type": "code",
   "execution_count": 84,
   "id": "e2e6a92c",
   "metadata": {},
   "outputs": [
    {
     "data": {
      "image/png": "[encoded data removed]",
      "text/plain": [
       "<Figure size 640x480 with 1 Axes>"
      ]
     },
     "metadata": {},
     "output_type": "display_data"
    }
   ],
   "source": [
    "import matplotlib.pyplot as plt\n",
    "import numpy as np\n",
    "x=np.random.normal(170,10,250)\n",
    "plt.hist(x)\n",
    "plt.show()"
   ]
  },
  {
   "cell_type": "code",
   "execution_count": 85,
   "id": "83f26c16",
   "metadata": {},
   "outputs": [],
   "source": [
    "#Practical 21"
   ]
  },
  {
   "cell_type": "code",
   "execution_count": 87,
   "id": "67097dbe",
   "metadata": {},
   "outputs": [
    {
     "data": {
      "image/png": "[encoded data removed]",
      "text/plain": [
       "<Figure size 640x480 with 1 Axes>"
      ]
     },
     "metadata": {},
     "output_type": "display_data"
    }
   ],
   "source": [
    "import matplotlib.pyplot as plt\n",
    "import numpy as np\n",
    "x=np.array([25,12,34,15,30])\n",
    "plt.pie(x,labels=['a','b','c','d','e'])\n",
    "plt.show()"
   ]
  },
  {
   "cell_type": "code",
   "execution_count": null,
   "id": "931c509c",
   "metadata": {},
   "outputs": [],
   "source": []
  }
 ],
 "metadata": {
  "kernelspec": {
   "display_name": "Python 3 (ipykernel)",
   "language": "python",
   "name": "python3"
  },
  "language_info": {
   "codemirror_mode": {
    "name": "ipython",
    "version": 3
   },
   "file_extension": ".py",
   "mimetype": "text/x-python",
   "name": "python",
   "nbconvert_exporter": "python",
   "pygments_lexer": "ipython3",
   "version": "3.9.13"
  }
 },
 "nbformat": 4,
 "nbformat_minor": 5
}
