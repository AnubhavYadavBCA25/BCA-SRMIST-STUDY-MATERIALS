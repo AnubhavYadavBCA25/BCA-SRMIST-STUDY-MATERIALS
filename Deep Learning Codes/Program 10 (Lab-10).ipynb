{
 "cells": [
  {
   "cell_type": "markdown",
   "id": "4e67c786",
   "metadata": {},
   "source": [
    "# Program 10 (Lab-10)"
   ]
  },
  {
   "cell_type": "markdown",
   "id": "1eeaf765",
   "metadata": {},
   "source": [
    "Write a program to Build a Recommendation system using Deep Learning techniques."
   ]
  },
  {
   "cell_type": "code",
   "execution_count": 1,
   "id": "4735f31e",
   "metadata": {},
   "outputs": [],
   "source": [
    "import pandas as pd\n",
    "import requests\n",
    "import numpy as np\n",
    "import tensorflow as tf\n",
    "from sklearn.model_selection import train_test_split\n",
    "from tensorflow.keras.models import Model\n",
    "from tensorflow.keras.layers import Input, Embedding, Flatten, Dense\n",
    "from tensorflow.keras.optimizers import Adam"
   ]
  },
  {
   "cell_type": "code",
   "execution_count": 2,
   "id": "5782f920",
   "metadata": {},
   "outputs": [],
   "source": [
    "data = pd.read_csv('ratings.csv')"
   ]
  },
  {
   "cell_type": "code",
   "execution_count": 3,
   "id": "0d6c5ca0",
   "metadata": {},
   "outputs": [
    {
     "data": {
      "text/html": [
       "<div>\n",
       "<style scoped>\n",
       "    .dataframe tbody tr th:only-of-type {\n",
       "        vertical-align: middle;\n",
       "    }\n",
       "\n",
       "    .dataframe tbody tr th {\n",
       "        vertical-align: top;\n",
       "    }\n",
       "\n",
       "    .dataframe thead th {\n",
       "        text-align: right;\n",
       "    }\n",
       "</style>\n",
       "<table border=\"1\" class=\"dataframe\">\n",
       "  <thead>\n",
       "    <tr style=\"text-align: right;\">\n",
       "      <th></th>\n",
       "      <th>userId</th>\n",
       "      <th>movieId</th>\n",
       "      <th>rating</th>\n",
       "      <th>timestamp</th>\n",
       "    </tr>\n",
       "  </thead>\n",
       "  <tbody>\n",
       "    <tr>\n",
       "      <th>0</th>\n",
       "      <td>1</td>\n",
       "      <td>1</td>\n",
       "      <td>4.0</td>\n",
       "      <td>964982703</td>\n",
       "    </tr>\n",
       "    <tr>\n",
       "      <th>1</th>\n",
       "      <td>1</td>\n",
       "      <td>3</td>\n",
       "      <td>4.0</td>\n",
       "      <td>964981247</td>\n",
       "    </tr>\n",
       "    <tr>\n",
       "      <th>2</th>\n",
       "      <td>1</td>\n",
       "      <td>6</td>\n",
       "      <td>4.0</td>\n",
       "      <td>964982224</td>\n",
       "    </tr>\n",
       "    <tr>\n",
       "      <th>3</th>\n",
       "      <td>1</td>\n",
       "      <td>47</td>\n",
       "      <td>5.0</td>\n",
       "      <td>964983815</td>\n",
       "    </tr>\n",
       "    <tr>\n",
       "      <th>4</th>\n",
       "      <td>1</td>\n",
       "      <td>50</td>\n",
       "      <td>5.0</td>\n",
       "      <td>964982931</td>\n",
       "    </tr>\n",
       "  </tbody>\n",
       "</table>\n",
       "</div>"
      ],
      "text/plain": [
       "   userId  movieId  rating  timestamp\n",
       "0       1        1     4.0  964982703\n",
       "1       1        3     4.0  964981247\n",
       "2       1        6     4.0  964982224\n",
       "3       1       47     5.0  964983815\n",
       "4       1       50     5.0  964982931"
      ]
     },
     "execution_count": 3,
     "metadata": {},
     "output_type": "execute_result"
    }
   ],
   "source": [
    "data.head()"
   ]
  },
  {
   "cell_type": "code",
   "execution_count": 4,
   "id": "ea7ed985",
   "metadata": {},
   "outputs": [],
   "source": [
    "user_ids = data.userId.unique()\n",
    "item_ids = data.movieId.unique()\n",
    "user2idx = {u: i for i,u in enumerate(user_ids)}\n",
    "item2idx = {m: i for i,m in enumerate(item_ids)}"
   ]
  },
  {
   "cell_type": "code",
   "execution_count": 5,
   "id": "48ed55e2",
   "metadata": {},
   "outputs": [],
   "source": [
    "num_users = len(user_ids)\n",
    "num_items = len(item_ids)"
   ]
  },
  {
   "cell_type": "code",
   "execution_count": 6,
   "id": "e74e1501",
   "metadata": {},
   "outputs": [],
   "source": [
    "train_data, val_data = train_test_split(data,test_size=0.2,random_state=42)"
   ]
  },
  {
   "cell_type": "code",
   "execution_count": 7,
   "id": "c149bd86",
   "metadata": {},
   "outputs": [],
   "source": [
    "user_input = Input(shape=(1,))\n",
    "item_input = Input(shape=(1,))\n",
    "user_embedding = Embedding(num_users,50)(user_input)\n",
    "item_embedding = Embedding(num_items,50)(item_input)\n",
    "user_vecs = Flatten()(user_embedding)\n",
    "item_vecs = Flatten()(item_embedding)\n",
    "dot_product = tf.keras.layers.Dot(axes=1)([user_vecs,item_vecs])\n",
    "model = Model(inputs=[user_input,item_input],outputs=dot_product)"
   ]
  },
  {
   "cell_type": "code",
   "execution_count": 8,
   "id": "4be12f31",
   "metadata": {},
   "outputs": [],
   "source": [
    "model.compile(optimizer=Adam(learning_rate=0.001),loss='mean_squared_error')"
   ]
  },
  {
   "cell_type": "code",
   "execution_count": 9,
   "id": "a186b458",
   "metadata": {},
   "outputs": [
    {
     "name": "stdout",
     "output_type": "stream",
     "text": [
      "Epoch 1/5\n",
      "1261/1261 - 7s - loss: 10.4127 - val_loss: 4.0988\n",
      "Epoch 2/5\n",
      "1261/1261 - 5s - loss: 2.3595 - val_loss: 1.8240\n",
      "Epoch 3/5\n",
      "1261/1261 - 6s - loss: 1.2204 - val_loss: 1.4439\n",
      "Epoch 4/5\n",
      "1261/1261 - 6s - loss: 0.8937 - val_loss: 1.3212\n",
      "Epoch 5/5\n",
      "1261/1261 - 5s - loss: 0.7345 - val_loss: 1.2762\n"
     ]
    }
   ],
   "source": [
    "history = model.fit(\n",
    "    [train_data.userId.map(user2idx),train_data.movieId.map(item2idx)],\n",
    "    train_data.rating,\n",
    "    batch_size=64,\n",
    "    epochs=5,\n",
    "    verbose=2,\n",
    "    validation_data=([val_data.userId.map(user2idx), val_data.movieId.map(item2idx)],\n",
    "                    val_data.rating)\n",
    ")"
   ]
  },
  {
   "cell_type": "code",
   "execution_count": 13,
   "id": "d737c36a",
   "metadata": {
    "scrolled": true
   },
   "outputs": [
    {
     "name": "stdout",
     "output_type": "stream",
     "text": [
      "Sample Recommendations:\n",
      "Movie ID: 2542, Predicted Rating: 5.14\n",
      "Movie ID: 1275, Predicted Rating: 4.87\n",
      "Movie ID: 151, Predicted Rating: 3.77\n",
      "Movie ID: 2012, Predicted Rating: 4.52\n",
      "Movie ID: 2944, Predicted Rating: 4.99\n"
     ]
    }
   ],
   "source": [
    "# Sample recommendation\n",
    "user_id = 1\n",
    "user_input = np.array([user2idx[user_id]])\n",
    "item_ids = data[data.userId == user_id].sample(n=5)['movieId'].values\n",
    "item_inputs = np.array([item2idx[item] for item in item_ids])\n",
    "user_input = np.array([user2idx[user_id]] * len(item_ids))  # Repeat user_input\n",
    "predicted_ratings = model.predict([user_input, item_inputs])\n",
    "\n",
    "print(\"Sample Recommendations:\")\n",
    "for item_id, rating in zip(item_ids, predicted_ratings):\n",
    "    print(f\"Movie ID: {item_id}, Predicted Rating: {rating[0]:.2f}\")\n"
   ]
  },
  {
   "cell_type": "code",
   "execution_count": null,
   "id": "15cb1fa6",
   "metadata": {},
   "outputs": [],
   "source": []
  }
 ],
 "metadata": {
  "kernelspec": {
   "display_name": "Python 3 (ipykernel)",
   "language": "python",
   "name": "python3"
  },
  "language_info": {
   "codemirror_mode": {
    "name": "ipython",
    "version": 3
   },
   "file_extension": ".py",
   "mimetype": "text/x-python",
   "name": "python",
   "nbconvert_exporter": "python",
   "pygments_lexer": "ipython3",
   "version": "3.9.17"
  }
 },
 "nbformat": 4,
 "nbformat_minor": 5
}
