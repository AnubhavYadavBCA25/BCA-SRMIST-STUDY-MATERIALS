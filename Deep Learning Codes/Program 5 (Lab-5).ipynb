{
 "cells": [
  {
   "cell_type": "markdown",
   "id": "c729d6d7",
   "metadata": {},
   "source": [
    "# Program 5 (Lab-5)"
   ]
  },
  {
   "cell_type": "markdown",
   "id": "fd813809",
   "metadata": {},
   "source": [
    "WAP to Build a network for classification using the built in MNIST dataset."
   ]
  },
  {
   "cell_type": "code",
   "execution_count": 1,
   "id": "78a3a752",
   "metadata": {},
   "outputs": [
    {
     "name": "stdout",
     "output_type": "stream",
     "text": [
      "Epoch 1/5\n",
      "1688/1688 - 5s - loss: 0.2607 - accuracy: 0.9226 - val_loss: 0.1305 - val_accuracy: 0.9643\n",
      "Epoch 2/5\n",
      "1688/1688 - 3s - loss: 0.1092 - accuracy: 0.9667 - val_loss: 0.0853 - val_accuracy: 0.9772\n",
      "Epoch 3/5\n",
      "1688/1688 - 3s - loss: 0.0763 - accuracy: 0.9759 - val_loss: 0.0898 - val_accuracy: 0.9748\n",
      "Epoch 4/5\n",
      "1688/1688 - 3s - loss: 0.0563 - accuracy: 0.9815 - val_loss: 0.0855 - val_accuracy: 0.9755\n",
      "Epoch 5/5\n",
      "1688/1688 - 3s - loss: 0.0446 - accuracy: 0.9862 - val_loss: 0.0836 - val_accuracy: 0.9768\n",
      "313/313 - 1s - loss: 0.0721 - accuracy: 0.9774\n",
      "Test accuracy: 97.74%\n"
     ]
    }
   ],
   "source": [
    "import tensorflow as tf\n",
    "from tensorflow.keras.datasets import mnist\n",
    "from tensorflow.keras.models import Sequential\n",
    "from tensorflow.keras.layers import Flatten, Dense\n",
    "\n",
    "# Load and preprocess the MNIST dataset\n",
    "(x_train, y_train), (x_test, y_test) = mnist.load_data()\n",
    "x_train, x_test = x_train / 255.0, x_test / 255.0\n",
    "\n",
    "# Build the neural network\n",
    "model = Sequential([\n",
    "    Flatten(input_shape=(28, 28)),  # Flatten the 28x28 images to a 1D array\n",
    "    Dense(128, activation='relu'),   # Fully connected layer with 128 units and ReLU activation\n",
    "    Dense(64, activation='relu'),    # Fully connected layer with 64 units and ReLU activation\n",
    "    Dense(10, activation='softmax')  # Output layer with 10 units for 10 classes and softmax activation\n",
    "])\n",
    "\n",
    "# Compile the model\n",
    "model.compile(optimizer='adam', loss='sparse_categorical_crossentropy', metrics=['accuracy'])\n",
    "\n",
    "# Train the model\n",
    "model.fit(x_train, y_train, epochs=5, validation_split=0.1, verbose=2)\n",
    "\n",
    "# Evaluate the model on test data\n",
    "test_loss, test_accuracy = model.evaluate(x_test, y_test, verbose=2)\n",
    "print(f\"Test accuracy: {test_accuracy * 100:.2f}%\")"
   ]
  },
  {
   "cell_type": "code",
   "execution_count": null,
   "id": "ffb7f583",
   "metadata": {},
   "outputs": [],
   "source": []
  }
 ],
 "metadata": {
  "kernelspec": {
   "display_name": "Python 3 (ipykernel)",
   "language": "python",
   "name": "python3"
  },
  "language_info": {
   "codemirror_mode": {
    "name": "ipython",
    "version": 3
   },
   "file_extension": ".py",
   "mimetype": "text/x-python",
   "name": "python",
   "nbconvert_exporter": "python",
   "pygments_lexer": "ipython3",
   "version": "3.9.17"
  }
 },
 "nbformat": 4,
 "nbformat_minor": 5
}
