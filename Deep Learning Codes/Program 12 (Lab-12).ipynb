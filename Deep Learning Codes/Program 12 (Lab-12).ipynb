{
 "cells": [
  {
   "cell_type": "markdown",
   "id": "c3e052c2",
   "metadata": {},
   "source": [
    "# Program 12 (Lab-12)"
   ]
  },
  {
   "cell_type": "markdown",
   "id": "8a15abf6",
   "metadata": {},
   "source": [
    "Write a program use Recurrent Neural Network to Perform Sentiment Analysis."
   ]
  },
  {
   "cell_type": "code",
   "execution_count": 1,
   "id": "29c5e396",
   "metadata": {},
   "outputs": [],
   "source": [
    "import tensorflow as tf\n",
    "from tensorflow.keras.datasets import imdb\n",
    "from tensorflow.keras.models import Sequential\n",
    "from tensorflow.keras.layers import Embedding,SimpleRNN,Dense,Flatten\n",
    "from tensorflow.keras.preprocessing.sequence import pad_sequences"
   ]
  },
  {
   "cell_type": "code",
   "execution_count": 2,
   "id": "004cb5a2",
   "metadata": {},
   "outputs": [
    {
     "name": "stdout",
     "output_type": "stream",
     "text": [
      "Downloading data from https://storage.googleapis.com/tensorflow/tf-keras-datasets/imdb.npz\n",
      "17465344/17464789 [==============================] - 5s 0us/step\n",
      "17473536/17464789 [==============================] - 5s 0us/step\n"
     ]
    }
   ],
   "source": [
    "#Load the IMDb dataset\n",
    "max_words = 10000\n",
    "(x_train,y_train),(x_test,y_test) = imdb.load_data(num_words=max_words)"
   ]
  },
  {
   "cell_type": "code",
   "execution_count": 3,
   "id": "9953c6ac",
   "metadata": {},
   "outputs": [],
   "source": [
    "#Preprocess the data\n",
    "max_review_length = 500\n",
    "x_train = pad_sequences(x_train,maxlen=max_review_length)\n",
    "x_test = pad_sequences(x_test,maxlen=max_review_length)"
   ]
  },
  {
   "cell_type": "code",
   "execution_count": 4,
   "id": "aaf5f4d8",
   "metadata": {},
   "outputs": [],
   "source": [
    "#Build the RNN model\n",
    "model = Sequential([\n",
    "    Embedding(max_words,32,input_length=max_review_length),\n",
    "    SimpleRNN(64),\n",
    "    Dense(1,activation='sigmoid')\n",
    "])"
   ]
  },
  {
   "cell_type": "code",
   "execution_count": 5,
   "id": "8c413c46",
   "metadata": {},
   "outputs": [],
   "source": [
    "#Compile the model\n",
    "model.compile(optimizer='adam',loss='binary_crossentropy',metrics=['accuracy'])"
   ]
  },
  {
   "cell_type": "code",
   "execution_count": 6,
   "id": "5ea2aa8b",
   "metadata": {},
   "outputs": [
    {
     "name": "stdout",
     "output_type": "stream",
     "text": [
      "Epoch 1/3\n",
      "313/313 - 106s - loss: 0.6234 - accuracy: 0.6485 - val_loss: 0.6356 - val_accuracy: 0.6124\n",
      "Epoch 2/3\n",
      "313/313 - 103s - loss: 0.4094 - accuracy: 0.8214 - val_loss: 0.3902 - val_accuracy: 0.8378\n",
      "Epoch 3/3\n",
      "313/313 - 104s - loss: 0.2474 - accuracy: 0.9018 - val_loss: 0.3992 - val_accuracy: 0.8400\n"
     ]
    },
    {
     "data": {
      "text/plain": [
       "<keras.callbacks.History at 0x1e72cb27460>"
      ]
     },
     "execution_count": 6,
     "metadata": {},
     "output_type": "execute_result"
    }
   ],
   "source": [
    "#Train the model\n",
    "model.fit(x_train,y_train,epochs=3,batch_size=64,validation_split=0.2,verbose=2)"
   ]
  },
  {
   "cell_type": "code",
   "execution_count": 7,
   "id": "d9641b46",
   "metadata": {},
   "outputs": [
    {
     "name": "stdout",
     "output_type": "stream",
     "text": [
      "782/782 - 41s - loss: 0.4126 - accuracy: 0.8336\n",
      "Test Accuracy: 83.36%\n"
     ]
    }
   ],
   "source": [
    "#Evaluate the model on test data\n",
    "test_loss,test_accuracy = model.evaluate(x_test,y_test,verbose=2)\n",
    "print(f'Test Accuracy: {test_accuracy*100:.2f}%')"
   ]
  },
  {
   "cell_type": "code",
   "execution_count": null,
   "id": "0e55e16f",
   "metadata": {},
   "outputs": [],
   "source": []
  }
 ],
 "metadata": {
  "kernelspec": {
   "display_name": "Python 3 (ipykernel)",
   "language": "python",
   "name": "python3"
  },
  "language_info": {
   "codemirror_mode": {
    "name": "ipython",
    "version": 3
   },
   "file_extension": ".py",
   "mimetype": "text/x-python",
   "name": "python",
   "nbconvert_exporter": "python",
   "pygments_lexer": "ipython3",
   "version": "3.9.17"
  }
 },
 "nbformat": 4,
 "nbformat_minor": 5
}
