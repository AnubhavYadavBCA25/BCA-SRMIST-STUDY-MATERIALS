{
 "cells": [
  {
   "cell_type": "markdown",
   "id": "4146ab46",
   "metadata": {},
   "source": [
    "# Program 6 (Lab-6)"
   ]
  },
  {
   "cell_type": "markdown",
   "id": "fcac8472",
   "metadata": {},
   "source": [
    "Write a program Build a network for classification using the built in MNIST dataset and Use the sigmoid activation function."
   ]
  },
  {
   "cell_type": "code",
   "execution_count": 1,
   "id": "6362bc65",
   "metadata": {},
   "outputs": [
    {
     "name": "stdout",
     "output_type": "stream",
     "text": [
      "Epoch 1/5\n",
      "1688/1688 - 4s - loss: 0.5075 - accuracy: 0.8698 - val_loss: 0.1878 - val_accuracy: 0.9487\n",
      "Epoch 2/5\n",
      "1688/1688 - 3s - loss: 0.1903 - accuracy: 0.9437 - val_loss: 0.1327 - val_accuracy: 0.9640\n",
      "Epoch 3/5\n",
      "1688/1688 - 3s - loss: 0.1355 - accuracy: 0.9596 - val_loss: 0.1046 - val_accuracy: 0.9693\n",
      "Epoch 4/5\n",
      "1688/1688 - 3s - loss: 0.1024 - accuracy: 0.9699 - val_loss: 0.0908 - val_accuracy: 0.9722\n",
      "Epoch 5/5\n",
      "1688/1688 - 3s - loss: 0.0804 - accuracy: 0.9758 - val_loss: 0.0807 - val_accuracy: 0.9767\n",
      "313/313 - 1s - loss: 0.0898 - accuracy: 0.9729\n",
      "Test accuracy: 97.29%\n"
     ]
    }
   ],
   "source": [
    "import tensorflow as tf\n",
    "from tensorflow.keras.datasets import mnist\n",
    "from tensorflow.keras.models import Sequential\n",
    "from tensorflow.keras.layers import Flatten, Dense\n",
    "\n",
    "# Load and preprocess the MNIST dataset\n",
    "(x_train, y_train), (x_test, y_test) = mnist.load_data()\n",
    "x_train, x_test = x_train / 255.0, x_test / 255.0\n",
    "\n",
    "# Build the neural network\n",
    "model = Sequential([\n",
    "    Flatten(input_shape=(28, 28)),  # Flatten the 28x28 images to a 1D array\n",
    "    Dense(128, activation='sigmoid'),   # Fully connected layer with 128 units and sigmoid activation\n",
    "    Dense(64, activation='sigmoid'),    # Fully connected layer with 64 units and sigmoid activation\n",
    "    Dense(10, activation='softmax')  # Output layer with 10 units for 10 classes and softmax activation\n",
    "])\n",
    "\n",
    "# Compile the model\n",
    "model.compile(optimizer='adam', loss='sparse_categorical_crossentropy', metrics=['accuracy'])\n",
    "\n",
    "# Train the model\n",
    "model.fit(x_train, y_train, epochs=5, validation_split=0.1, verbose=2)\n",
    "\n",
    "# Evaluate the model on test data\n",
    "test_loss, test_accuracy = model.evaluate(x_test, y_test, verbose=2)\n",
    "print(f\"Test accuracy: {test_accuracy * 100:.2f}%\")"
   ]
  },
  {
   "cell_type": "code",
   "execution_count": null,
   "id": "1888865e",
   "metadata": {},
   "outputs": [],
   "source": []
  }
 ],
 "metadata": {
  "kernelspec": {
   "display_name": "Python 3 (ipykernel)",
   "language": "python",
   "name": "python3"
  },
  "language_info": {
   "codemirror_mode": {
    "name": "ipython",
    "version": 3
   },
   "file_extension": ".py",
   "mimetype": "text/x-python",
   "name": "python",
   "nbconvert_exporter": "python",
   "pygments_lexer": "ipython3",
   "version": "3.9.17"
  }
 },
 "nbformat": 4,
 "nbformat_minor": 5
}
