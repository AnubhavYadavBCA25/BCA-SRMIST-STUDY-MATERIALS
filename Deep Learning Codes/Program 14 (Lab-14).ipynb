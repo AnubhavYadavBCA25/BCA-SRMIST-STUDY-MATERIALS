{
 "cells": [
  {
   "cell_type": "markdown",
   "id": "5f329ef0",
   "metadata": {},
   "source": [
    "# Program 14 (Lab-14)"
   ]
  },
  {
   "cell_type": "markdown",
   "id": "d2ec6f54",
   "metadata": {},
   "source": [
    "Write a program using Deep Learning Hands On Lab Work-Build, Test and Deploy ML Models."
   ]
  },
  {
   "cell_type": "code",
   "execution_count": 1,
   "id": "ee9af3e3",
   "metadata": {},
   "outputs": [],
   "source": [
    "import tensorflow as tf\n",
    "import numpy as np\n",
    "from tensorflow.keras.models import Sequential\n",
    "from tensorflow.keras.layers import Dense"
   ]
  },
  {
   "cell_type": "code",
   "execution_count": 2,
   "id": "572554b9",
   "metadata": {},
   "outputs": [],
   "source": [
    "np.random.seed(0)\n",
    "x_train = np.random.rand(100,1)*1000\n",
    "y_train = 50 * x_train + 1000 + np.random.randn(100,1) * 200"
   ]
  },
  {
   "cell_type": "code",
   "execution_count": 3,
   "id": "657b71f4",
   "metadata": {},
   "outputs": [],
   "source": [
    "model = Sequential([\n",
    "    Dense(1,input_shape=(1,))\n",
    "])"
   ]
  },
  {
   "cell_type": "code",
   "execution_count": 4,
   "id": "9980e7ca",
   "metadata": {},
   "outputs": [],
   "source": [
    "model.compile(optimizer='adam',loss='mean_squared_error')"
   ]
  },
  {
   "cell_type": "code",
   "execution_count": 5,
   "id": "77fcb78d",
   "metadata": {},
   "outputs": [
    {
     "data": {
      "text/plain": [
       "<keras.callbacks.History at 0x16db903eeb0>"
      ]
     },
     "execution_count": 5,
     "metadata": {},
     "output_type": "execute_result"
    }
   ],
   "source": [
    "model.fit(x_train,y_train,epochs=100,verbose=0)"
   ]
  },
  {
   "cell_type": "code",
   "execution_count": 6,
   "id": "48d6a32c",
   "metadata": {},
   "outputs": [],
   "source": [
    "x_test = np.array([[200],[400],[800]])\n",
    "y_pred = model.predict(x_test)"
   ]
  },
  {
   "cell_type": "code",
   "execution_count": 8,
   "id": "b04883f5",
   "metadata": {},
   "outputs": [
    {
     "name": "stdout",
     "output_type": "stream",
     "text": [
      "Input: 200, Predicted Output: -22.793502807617188\n",
      "Input: 400, Predicted Output: -45.980560302734375\n",
      "Input: 800, Predicted Output: -92.35468292236328\n"
     ]
    }
   ],
   "source": [
    "for i in range(len(x_test)):\n",
    "    print(f'Input: {x_test[i][0]}, Predicted Output: {y_pred[i][0]}')"
   ]
  },
  {
   "cell_type": "code",
   "execution_count": null,
   "id": "06f331da",
   "metadata": {},
   "outputs": [],
   "source": []
  }
 ],
 "metadata": {
  "kernelspec": {
   "display_name": "Python 3 (ipykernel)",
   "language": "python",
   "name": "python3"
  },
  "language_info": {
   "codemirror_mode": {
    "name": "ipython",
    "version": 3
   },
   "file_extension": ".py",
   "mimetype": "text/x-python",
   "name": "python",
   "nbconvert_exporter": "python",
   "pygments_lexer": "ipython3",
   "version": "3.9.17"
  }
 },
 "nbformat": 4,
 "nbformat_minor": 5
}
