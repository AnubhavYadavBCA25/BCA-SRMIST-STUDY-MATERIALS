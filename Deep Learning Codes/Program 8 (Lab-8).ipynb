{
 "cells": [
  {
   "cell_type": "markdown",
   "id": "8813d608",
   "metadata": {},
   "source": [
    "# Program 8 (Lab-8)"
   ]
  },
  {
   "cell_type": "markdown",
   "id": "9fb6d504",
   "metadata": {},
   "source": [
    "Write A Program on Working Data Collection, Evaluation."
   ]
  },
  {
   "cell_type": "code",
   "execution_count": 2,
   "id": "6314aa87",
   "metadata": {},
   "outputs": [
    {
     "name": "stdout",
     "output_type": "stream",
     "text": [
      "Enter the number of students: 5\n",
      "Enter the score for student 1: 34\n",
      "Enter the score for student 2: 56\n",
      "Enter the score for student 3: 87\n",
      "Enter the score for student 4: 23\n",
      "Enter the score for student 5: 90\n",
      "\n",
      "Data Collection and Evaluation Results:\n",
      "----------------------------------------\n",
      "Average Score: 58.00\n",
      "Number of Passing Students: 2\n",
      "Number of Failing Students: 3\n"
     ]
    }
   ],
   "source": [
    "# Collect data\n",
    "num_students = int(input(\"Enter the number of students: \"))\n",
    "scores = []\n",
    "\n",
    "for i in range(num_students):\n",
    "    score = float(input(f\"Enter the score for student {i+1}: \"))\n",
    "    scores.append(score)\n",
    "\n",
    "# Evaluate data\n",
    "passing_threshold = 60\n",
    "average_score = sum(scores) / len(scores)\n",
    "passing_students = sum(score >= passing_threshold for score in scores)\n",
    "failing_students = num_students - passing_students\n",
    "\n",
    "# Output results\n",
    "print(\"\\nData Collection and Evaluation Results:\")\n",
    "print(\"-\" * 40)\n",
    "print(f\"Average Score: {average_score:.2f}\")\n",
    "print(f\"Number of Passing Students: {passing_students}\")\n",
    "print(f\"Number of Failing Students: {failing_students}\")"
   ]
  },
  {
   "cell_type": "code",
   "execution_count": null,
   "id": "fe0a37a5",
   "metadata": {},
   "outputs": [],
   "source": []
  }
 ],
 "metadata": {
  "kernelspec": {
   "display_name": "Python 3 (ipykernel)",
   "language": "python",
   "name": "python3"
  },
  "language_info": {
   "codemirror_mode": {
    "name": "ipython",
    "version": 3
   },
   "file_extension": ".py",
   "mimetype": "text/x-python",
   "name": "python",
   "nbconvert_exporter": "python",
   "pygments_lexer": "ipython3",
   "version": "3.9.17"
  }
 },
 "nbformat": 4,
 "nbformat_minor": 5
}
