{
 "cells": [
  {
   "cell_type": "markdown",
   "id": "1d35b43c",
   "metadata": {},
   "source": [
    "# Program 3 (Lab-3)"
   ]
  },
  {
   "cell_type": "markdown",
   "id": "7102bf8e",
   "metadata": {},
   "source": [
    "WAP to Using Tensorflow build 3 networks, each with at least 10 hidden layers."
   ]
  },
  {
   "cell_type": "code",
   "execution_count": 1,
   "id": "9c67b110",
   "metadata": {},
   "outputs": [],
   "source": [
    "import tensorflow as tf\n",
    "import numpy as np"
   ]
  },
  {
   "cell_type": "code",
   "execution_count": 2,
   "id": "aa42d517",
   "metadata": {},
   "outputs": [],
   "source": [
    "num_samples = 1000\n",
    "x_train = np.random.rand(num_samples,1)\n",
    "y_train = 5 * x_train - 3 + np.random.randn(num_samples,1) * 0.1"
   ]
  },
  {
   "cell_type": "code",
   "execution_count": 3,
   "id": "10f8ad30",
   "metadata": {},
   "outputs": [],
   "source": [
    "def build_network(num_hidden_layers):\n",
    "    model = tf.keras.Sequential()\n",
    "    model.add(tf.keras.layers.Input(shape=(1,)))\n",
    "    for i in range(num_hidden_layers):\n",
    "        model.add(tf.keras.layers.Dense(units=100,activation='relu'))\n",
    "    model.add(tf.keras.layers.Dense(units=1))\n",
    "    return model"
   ]
  },
  {
   "cell_type": "code",
   "execution_count": 4,
   "id": "8c8c06f8",
   "metadata": {},
   "outputs": [],
   "source": [
    "networks = [build_network(num_hidden_layers) for num_hidden_layers in [10,15,20]]"
   ]
  },
  {
   "cell_type": "code",
   "execution_count": 5,
   "id": "e8cae78d",
   "metadata": {},
   "outputs": [
    {
     "name": "stdout",
     "output_type": "stream",
     "text": [
      "Network 1 - Predicted y for x=0.5: -0.79468215\n",
      "Network 1 - Predicted y for x=0.8: -0.8127805\n",
      "---------------------------------------------\n",
      "Network 2 - Predicted y for x=0.5: -0.73857015\n",
      "Network 2 - Predicted y for x=0.8: -0.7533735\n",
      "---------------------------------------------\n",
      "Network 3 - Predicted y for x=0.5: -0.791546\n",
      "Network 3 - Predicted y for x=0.8: -0.80756366\n",
      "---------------------------------------------\n"
     ]
    }
   ],
   "source": [
    "for i,model in enumerate(networks):\n",
    "    model.compile(optimizer='adam',loss='mean_squared_error')\n",
    "    model.fit(x_train,y_train,epochs=100,verbose=0)\n",
    "    y_pred = model.predict(x_train)\n",
    "    print(f'Network {i+1} - Predicted y for x=0.5:',y_pred[0][0])\n",
    "    print(f'Network {i+1} - Predicted y for x=0.8:',y_pred[1][0])\n",
    "    print('-'*45)"
   ]
  },
  {
   "cell_type": "code",
   "execution_count": null,
   "id": "b73cf475",
   "metadata": {},
   "outputs": [],
   "source": []
  }
 ],
 "metadata": {
  "kernelspec": {
   "display_name": "Python 3 (ipykernel)",
   "language": "python",
   "name": "python3"
  },
  "language_info": {
   "codemirror_mode": {
    "name": "ipython",
    "version": 3
   },
   "file_extension": ".py",
   "mimetype": "text/x-python",
   "name": "python",
   "nbconvert_exporter": "python",
   "pygments_lexer": "ipython3",
   "version": "3.9.17"
  }
 },
 "nbformat": 4,
 "nbformat_minor": 5
}
