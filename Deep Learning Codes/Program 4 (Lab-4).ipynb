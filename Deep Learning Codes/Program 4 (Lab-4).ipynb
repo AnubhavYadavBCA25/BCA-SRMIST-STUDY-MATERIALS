{
 "cells": [
  {
   "cell_type": "markdown",
   "id": "2db4eb60",
   "metadata": {},
   "source": [
    "# Program 4 (Lab-4)"
   ]
  },
  {
   "cell_type": "markdown",
   "id": "0eab6ca7",
   "metadata": {},
   "source": [
    "Build a network with at least 3 hidden layers that achieves better than 92% accuracy on validation and test data. You may need to train for more than 10 epochs to achieve this result."
   ]
  },
  {
   "cell_type": "code",
   "execution_count": 1,
   "id": "6e5c890d",
   "metadata": {},
   "outputs": [
    {
     "name": "stdout",
     "output_type": "stream",
     "text": [
      "Downloading data from https://storage.googleapis.com/tensorflow/tf-keras-datasets/mnist.npz\n",
      "11493376/11490434 [==============================] - 3s 0us/step\n",
      "11501568/11490434 [==============================] - 3s 0us/step\n",
      "Epoch 1/15\n",
      "1688/1688 - 11s - loss: 0.2042 - accuracy: 0.9388 - val_loss: 0.0972 - val_accuracy: 0.9707\n",
      "Epoch 2/15\n",
      "1688/1688 - 8s - loss: 0.0896 - accuracy: 0.9728 - val_loss: 0.0693 - val_accuracy: 0.9802\n",
      "Epoch 3/15\n",
      "1688/1688 - 7s - loss: 0.0634 - accuracy: 0.9805 - val_loss: 0.0668 - val_accuracy: 0.9800\n",
      "Epoch 4/15\n",
      "1688/1688 - 7s - loss: 0.0510 - accuracy: 0.9841 - val_loss: 0.0855 - val_accuracy: 0.9762\n",
      "Epoch 5/15\n",
      "1688/1688 - 7s - loss: 0.0402 - accuracy: 0.9881 - val_loss: 0.0754 - val_accuracy: 0.9793\n",
      "Epoch 6/15\n",
      "1688/1688 - 10s - loss: 0.0352 - accuracy: 0.9894 - val_loss: 0.0722 - val_accuracy: 0.9807\n",
      "Epoch 7/15\n",
      "1688/1688 - 8s - loss: 0.0284 - accuracy: 0.9911 - val_loss: 0.0912 - val_accuracy: 0.9778\n",
      "Epoch 8/15\n",
      "1688/1688 - 8s - loss: 0.0259 - accuracy: 0.9920 - val_loss: 0.0930 - val_accuracy: 0.9777\n",
      "Epoch 9/15\n",
      "1688/1688 - 8s - loss: 0.0233 - accuracy: 0.9928 - val_loss: 0.1014 - val_accuracy: 0.9768\n",
      "Epoch 10/15\n",
      "1688/1688 - 8s - loss: 0.0219 - accuracy: 0.9936 - val_loss: 0.1005 - val_accuracy: 0.9788\n",
      "Epoch 11/15\n",
      "1688/1688 - 8s - loss: 0.0175 - accuracy: 0.9946 - val_loss: 0.0874 - val_accuracy: 0.9833\n",
      "Epoch 12/15\n",
      "1688/1688 - 8s - loss: 0.0202 - accuracy: 0.9944 - val_loss: 0.0848 - val_accuracy: 0.9815\n",
      "Epoch 13/15\n",
      "1688/1688 - 10s - loss: 0.0155 - accuracy: 0.9957 - val_loss: 0.0930 - val_accuracy: 0.9830\n",
      "Epoch 14/15\n",
      "1688/1688 - 9s - loss: 0.0140 - accuracy: 0.9957 - val_loss: 0.1143 - val_accuracy: 0.9813\n",
      "Epoch 15/15\n",
      "1688/1688 - 8s - loss: 0.0168 - accuracy: 0.9953 - val_loss: 0.0812 - val_accuracy: 0.9823\n",
      "313/313 - 1s - loss: 0.1028 - accuracy: 0.9802\n",
      "Test accuracy: 98.02%\n"
     ]
    }
   ],
   "source": [
    "import tensorflow as tf\n",
    "from tensorflow.keras.datasets import mnist\n",
    "# Load and preprocess the MNIST dataset\n",
    "(x_train, y_train), (x_test, y_test) = mnist.load_data()\n",
    "x_train, x_test = x_train / 255.0, x_test / 255.0\n",
    "# Build the neural network\n",
    "model = tf.keras.Sequential([\n",
    " tf.keras.layers.Flatten(input_shape=(28, 28)),\n",
    " tf.keras.layers.Dense(units=512, activation='relu'),\n",
    " tf.keras.layers.Dense(units=256, activation='relu'),\n",
    " tf.keras.layers.Dense(units=128, activation='relu'),\n",
    " tf.keras.layers.Dense(units=10, activation='softmax')\n",
    "])\n",
    "# Compile the model\n",
    "model.compile(optimizer='adam', loss='sparse_categorical_crossentropy', \n",
    "metrics=['accuracy'])\n",
    "# Train the model\n",
    "model.fit(x_train, y_train, epochs=15, validation_split=0.1, verbose=2)\n",
    "# Evaluate the model on test data\n",
    "test_loss, test_accuracy = model.evaluate(x_test, y_test, verbose=2)\n",
    "print(f\"Test accuracy: {test_accuracy * 100:.2f}%\")"
   ]
  },
  {
   "cell_type": "code",
   "execution_count": null,
   "id": "c1188337",
   "metadata": {},
   "outputs": [],
   "source": []
  }
 ],
 "metadata": {
  "kernelspec": {
   "display_name": "Python 3 (ipykernel)",
   "language": "python",
   "name": "python3"
  },
  "language_info": {
   "codemirror_mode": {
    "name": "ipython",
    "version": 3
   },
   "file_extension": ".py",
   "mimetype": "text/x-python",
   "name": "python",
   "nbconvert_exporter": "python",
   "pygments_lexer": "ipython3",
   "version": "3.9.17"
  }
 },
 "nbformat": 4,
 "nbformat_minor": 5
}
