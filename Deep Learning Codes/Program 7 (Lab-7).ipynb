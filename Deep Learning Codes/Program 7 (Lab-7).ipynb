{
 "cells": [
  {
   "cell_type": "markdown",
   "id": "351b42c6",
   "metadata": {},
   "source": [
    "# Program 7 (Lab-7)"
   ]
  },
  {
   "cell_type": "markdown",
   "id": "7043f120",
   "metadata": {},
   "source": [
    "Write a program to Build a network for classification using the built in MNIST dataset and use the sigmoid activation function Use the categorical cross entropy loss function."
   ]
  },
  {
   "cell_type": "code",
   "execution_count": 1,
   "id": "a677be66",
   "metadata": {},
   "outputs": [
    {
     "name": "stdout",
     "output_type": "stream",
     "text": [
      "Epoch 1/5\n",
      "1688/1688 - 12s - loss: 0.5008 - accuracy: 0.8729 - val_loss: 0.1872 - val_accuracy: 0.9460\n",
      "Epoch 2/5\n",
      "1688/1688 - 7s - loss: 0.1898 - accuracy: 0.9443 - val_loss: 0.1285 - val_accuracy: 0.9635\n",
      "Epoch 3/5\n",
      "1688/1688 - 9s - loss: 0.1315 - accuracy: 0.9615 - val_loss: 0.1032 - val_accuracy: 0.9698\n",
      "Epoch 4/5\n",
      "1688/1688 - 7s - loss: 0.0981 - accuracy: 0.9717 - val_loss: 0.1007 - val_accuracy: 0.9690\n",
      "Epoch 5/5\n",
      "1688/1688 - 9s - loss: 0.0770 - accuracy: 0.9774 - val_loss: 0.0811 - val_accuracy: 0.9745\n",
      "313/313 - 1s - loss: 0.0847 - accuracy: 0.9745\n",
      "Test accuracy: 97.45%\n"
     ]
    }
   ],
   "source": [
    "import tensorflow as tf\n",
    "from tensorflow.keras.datasets import mnist\n",
    "from tensorflow.keras.models import Sequential\n",
    "from tensorflow.keras.layers import Flatten, Dense\n",
    "\n",
    "# Load and preprocess the MNIST dataset\n",
    "(x_train, y_train), (x_test, y_test) = mnist.load_data()\n",
    "x_train, x_test = x_train / 255.0, x_test / 255.0\n",
    "\n",
    "# Build the neural network\n",
    "model = Sequential([\n",
    "    Flatten(input_shape=(28, 28)),  # Flatten the 28x28 images to a 1D array\n",
    "    Dense(128, activation='sigmoid'),   # Fully connected layer with 128 units and sigmoid activation\n",
    "    Dense(64, activation='sigmoid'),    # Fully connected layer with 64 units and sigmoid activation\n",
    "    Dense(10, activation='sigmoid')  # Output layer with 10 units for 10 classes and sigmoid activation\n",
    "])\n",
    "\n",
    "# Compile the model\n",
    "model.compile(optimizer='adam', loss='categorical_crossentropy', metrics=['accuracy'])\n",
    "\n",
    "# Train the model\n",
    "model.fit(x_train, tf.keras.utils.to_categorical(y_train, num_classes=10), epochs=5, validation_split=0.1, verbose=2)\n",
    "\n",
    "# Evaluate the model on test data\n",
    "test_loss, test_accuracy = model.evaluate(x_test, tf.keras.utils.to_categorical(y_test, num_classes=10), verbose=2)\n",
    "print(f\"Test accuracy: {test_accuracy * 100:.2f}%\")"
   ]
  },
  {
   "cell_type": "code",
   "execution_count": null,
   "id": "46c0d12d",
   "metadata": {},
   "outputs": [],
   "source": []
  }
 ],
 "metadata": {
  "kernelspec": {
   "display_name": "Python 3 (ipykernel)",
   "language": "python",
   "name": "python3"
  },
  "language_info": {
   "codemirror_mode": {
    "name": "ipython",
    "version": 3
   },
   "file_extension": ".py",
   "mimetype": "text/x-python",
   "name": "python",
   "nbconvert_exporter": "python",
   "pygments_lexer": "ipython3",
   "version": "3.9.17"
  }
 },
 "nbformat": 4,
 "nbformat_minor": 5
}
