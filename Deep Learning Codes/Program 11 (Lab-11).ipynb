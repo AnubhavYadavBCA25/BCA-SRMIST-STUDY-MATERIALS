{
 "cells": [
  {
   "cell_type": "markdown",
   "id": "6dbf9c96",
   "metadata": {},
   "source": [
    "# Program 11"
   ]
  },
  {
   "cell_type": "markdown",
   "id": "c8ef33ce",
   "metadata": {},
   "source": [
    "Write a program using working on Deep Learning Data Structures."
   ]
  },
  {
   "cell_type": "code",
   "execution_count": 1,
   "id": "cc9e10ac",
   "metadata": {},
   "outputs": [],
   "source": [
    "import numpy as np\n",
    "import tensorflow as tf"
   ]
  },
  {
   "cell_type": "code",
   "execution_count": 2,
   "id": "c1ffaa37",
   "metadata": {},
   "outputs": [],
   "source": [
    "#Creating tensors and arrays\n",
    "tensor = tf.constant([[1,2,3],[4,5,6]])\n",
    "array = np.array([[7,8,9],[10,11,12]])"
   ]
  },
  {
   "cell_type": "code",
   "execution_count": 4,
   "id": "e82d779d",
   "metadata": {},
   "outputs": [],
   "source": [
    "#Performing operations\n",
    "addition = tensor + array\n",
    "multiplication = tensor * array\n",
    "matrix_product = tf.matmul(tensor,array.T)"
   ]
  },
  {
   "cell_type": "code",
   "execution_count": 5,
   "id": "15f99159",
   "metadata": {},
   "outputs": [],
   "source": [
    "#Converting between tensors and arrays\n",
    "tensor_to_array = tensor.numpy()\n",
    "array_to_tensor = tf.convert_to_tensor(array)"
   ]
  },
  {
   "cell_type": "code",
   "execution_count": 6,
   "id": "989f9d5d",
   "metadata": {},
   "outputs": [
    {
     "name": "stdout",
     "output_type": "stream",
     "text": [
      "Original Tensor:\n",
      "tf.Tensor(\n",
      "[[1 2 3]\n",
      " [4 5 6]], shape=(2, 3), dtype=int32)\n",
      "\n",
      "Original Array:\n",
      "[[ 7  8  9]\n",
      " [10 11 12]]\n",
      "\n",
      "Element wise addition:\n",
      "tf.Tensor(\n",
      "[[ 8 10 12]\n",
      " [14 16 18]], shape=(2, 3), dtype=int32)\n",
      "\n",
      "Element wise multiplication:\n",
      "tf.Tensor(\n",
      "[[ 7 16 27]\n",
      " [40 55 72]], shape=(2, 3), dtype=int32)\n",
      "\n",
      "Matrix Product:\n",
      "tf.Tensor(\n",
      "[[ 50  68]\n",
      " [122 167]], shape=(2, 2), dtype=int32)\n",
      "\n",
      "Tensor Converted to Array:\n",
      "[[1 2 3]\n",
      " [4 5 6]]\n",
      "\n",
      "Array Converted to Tensor:\n",
      "tf.Tensor(\n",
      "[[ 7  8  9]\n",
      " [10 11 12]], shape=(2, 3), dtype=int32)\n"
     ]
    }
   ],
   "source": [
    "#Printing the results\n",
    "print('Original Tensor:')\n",
    "print(tensor)\n",
    "print('\\nOriginal Array:')\n",
    "print(array)\n",
    "print('\\nElement wise addition:')\n",
    "print(addition)\n",
    "print('\\nElement wise multiplication:')\n",
    "print(multiplication)\n",
    "print('\\nMatrix Product:')\n",
    "print(matrix_product)\n",
    "print('\\nTensor Converted to Array:')\n",
    "print(tensor_to_array)\n",
    "print('\\nArray Converted to Tensor:')\n",
    "print(array_to_tensor)"
   ]
  },
  {
   "cell_type": "code",
   "execution_count": null,
   "id": "809a8f2b",
   "metadata": {},
   "outputs": [],
   "source": []
  }
 ],
 "metadata": {
  "kernelspec": {
   "display_name": "Python 3 (ipykernel)",
   "language": "python",
   "name": "python3"
  },
  "language_info": {
   "codemirror_mode": {
    "name": "ipython",
    "version": 3
   },
   "file_extension": ".py",
   "mimetype": "text/x-python",
   "name": "python",
   "nbconvert_exporter": "python",
   "pygments_lexer": "ipython3",
   "version": "3.9.17"
  }
 },
 "nbformat": 4,
 "nbformat_minor": 5
}
