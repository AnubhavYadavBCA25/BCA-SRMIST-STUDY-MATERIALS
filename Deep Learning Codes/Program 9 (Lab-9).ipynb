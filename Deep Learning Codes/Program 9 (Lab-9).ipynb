{
 "cells": [
  {
   "cell_type": "markdown",
   "id": "84397072",
   "metadata": {},
   "source": [
    "# Program 9 (Lab-9)"
   ]
  },
  {
   "cell_type": "markdown",
   "id": "8c90b8b2",
   "metadata": {},
   "source": [
    "Write a program Using Conduct an expermient on Object detection using Convolution Neural Network."
   ]
  },
  {
   "cell_type": "code",
   "execution_count": 1,
   "id": "2f83984e",
   "metadata": {},
   "outputs": [],
   "source": [
    "import tensorflow as tf\n",
    "from tensorflow.keras.datasets import cifar10\n",
    "from tensorflow.keras.models import Sequential\n",
    "from tensorflow.keras.layers import Conv2D,MaxPooling2D,Flatten,Dense"
   ]
  },
  {
   "cell_type": "code",
   "execution_count": 2,
   "id": "0e7958e4",
   "metadata": {},
   "outputs": [],
   "source": [
    "# Load and preprocess CIFAR-10 dataset\n",
    "\n",
    "(x_train,y_train), (x_test,y_test) = cifar10.load_data()\n",
    "x_train,x_test = x_train/255.0, x_test/255.0"
   ]
  },
  {
   "cell_type": "code",
   "execution_count": 3,
   "id": "5e99f464",
   "metadata": {},
   "outputs": [],
   "source": [
    "#Build the CNN model\n",
    "model = Sequential([\n",
    "    Conv2D(32,(3,3),activation='relu',input_shape=(32,32,3)),\n",
    "    MaxPooling2D((2,2)),\n",
    "    Conv2D(64,(3,3),activation='relu'),\n",
    "    MaxPooling2D((2,2)),\n",
    "    Conv2D(32,(3,3),activation='relu',input_shape=(32,32,3)),\n",
    "    Flatten(),\n",
    "    Dense(64,activation='relu'),\n",
    "    Dense(10,activation='softmax')\n",
    "])"
   ]
  },
  {
   "cell_type": "code",
   "execution_count": 4,
   "id": "180c85c4",
   "metadata": {},
   "outputs": [],
   "source": [
    "# Compile the model\n",
    "model.compile(optimizer='adam',loss='sparse_categorical_crossentropy',metrics=['accuracy'])"
   ]
  },
  {
   "cell_type": "code",
   "execution_count": 6,
   "id": "41c91621",
   "metadata": {},
   "outputs": [
    {
     "name": "stdout",
     "output_type": "stream",
     "text": [
      "Epoch 1/5\n",
      "1407/1407 - 142s - loss: 1.2573 - accuracy: 0.5514 - val_loss: 1.1477 - val_accuracy: 0.5956\n",
      "Epoch 2/5\n",
      "1407/1407 - 141s - loss: 1.1108 - accuracy: 0.6068 - val_loss: 1.0542 - val_accuracy: 0.6254\n",
      "Epoch 3/5\n",
      "1407/1407 - 133s - loss: 1.0330 - accuracy: 0.6337 - val_loss: 1.0222 - val_accuracy: 0.6402\n",
      "Epoch 4/5\n",
      "1407/1407 - 126s - loss: 0.9574 - accuracy: 0.6597 - val_loss: 1.0168 - val_accuracy: 0.6468\n",
      "Epoch 5/5\n",
      "1407/1407 - 126s - loss: 0.9033 - accuracy: 0.6836 - val_loss: 0.9449 - val_accuracy: 0.6696\n"
     ]
    },
    {
     "data": {
      "text/plain": [
       "<keras.callbacks.History at 0x1b7bd3e6a30>"
      ]
     },
     "execution_count": 6,
     "metadata": {},
     "output_type": "execute_result"
    }
   ],
   "source": [
    "# Train the model\n",
    "model.fit(x_train,y_train,epochs=5,validation_split=0.1,verbose=2)"
   ]
  },
  {
   "cell_type": "code",
   "execution_count": 7,
   "id": "82fd1f91",
   "metadata": {},
   "outputs": [
    {
     "name": "stdout",
     "output_type": "stream",
     "text": [
      "313/313 - 3s - loss: 0.9813 - accuracy: 0.6594\n",
      "Test Accuracy: 65.94%\n"
     ]
    }
   ],
   "source": [
    "test_loss, test_accuracy = model.evaluate(x_test,y_test,verbose=2)\n",
    "print(f'Test Accuracy: {test_accuracy*100:.2f}%')"
   ]
  },
  {
   "cell_type": "code",
   "execution_count": null,
   "id": "3ad7008f",
   "metadata": {},
   "outputs": [],
   "source": []
  }
 ],
 "metadata": {
  "kernelspec": {
   "display_name": "Python 3 (ipykernel)",
   "language": "python",
   "name": "python3"
  },
  "language_info": {
   "codemirror_mode": {
    "name": "ipython",
    "version": 3
   },
   "file_extension": ".py",
   "mimetype": "text/x-python",
   "name": "python",
   "nbconvert_exporter": "python",
   "pygments_lexer": "ipython3",
   "version": "3.9.17"
  }
 },
 "nbformat": 4,
 "nbformat_minor": 5
}
