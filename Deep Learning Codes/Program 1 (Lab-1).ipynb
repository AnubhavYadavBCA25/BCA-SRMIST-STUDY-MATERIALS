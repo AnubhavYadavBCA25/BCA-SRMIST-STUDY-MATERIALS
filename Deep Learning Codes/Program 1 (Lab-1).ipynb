{
 "cells": [
  {
   "cell_type": "markdown",
   "id": "67a9cccf",
   "metadata": {},
   "source": [
    "# Program 1 (Lab-1)"
   ]
  },
  {
   "cell_type": "markdown",
   "id": "34352fc6",
   "metadata": {},
   "source": [
    "Build a simple artificial Neural Networks with 1 layer, with 1 neuron, and the input shape equal to 1, feed some data, use the equaltion y=5x-3, so where x = -2, y=-4 and train the network."
   ]
  },
  {
   "cell_type": "code",
   "execution_count": 2,
   "id": "5d716f4a",
   "metadata": {},
   "outputs": [],
   "source": [
    "import tensorflow as tf"
   ]
  },
  {
   "cell_type": "code",
   "execution_count": 3,
   "id": "bb386718",
   "metadata": {},
   "outputs": [],
   "source": [
    "x_train = [-2.0]\n",
    "y_train = [-4.0]"
   ]
  },
  {
   "cell_type": "code",
   "execution_count": 4,
   "id": "a7ea1cbe",
   "metadata": {},
   "outputs": [],
   "source": [
    "model = tf.keras.Sequential([\n",
    "    tf.keras.layers.Dense(units=1,input_shape=(1,))\n",
    "])"
   ]
  },
  {
   "cell_type": "code",
   "execution_count": 5,
   "id": "6460b39d",
   "metadata": {},
   "outputs": [],
   "source": [
    "model.compile(optimizer='sgd',loss='mean_squared_error')"
   ]
  },
  {
   "cell_type": "code",
   "execution_count": 6,
   "id": "c985031d",
   "metadata": {},
   "outputs": [
    {
     "data": {
      "text/plain": [
       "<keras.callbacks.History at 0x1c431a132b0>"
      ]
     },
     "execution_count": 6,
     "metadata": {},
     "output_type": "execute_result"
    }
   ],
   "source": [
    "model.fit(x_train,y_train,epochs=1000,verbose=0)"
   ]
  },
  {
   "cell_type": "code",
   "execution_count": 7,
   "id": "50ce870a",
   "metadata": {},
   "outputs": [
    {
     "name": "stdout",
     "output_type": "stream",
     "text": [
      "Predicted y: -3.9999993\n"
     ]
    }
   ],
   "source": [
    "x_test = [-2.0]\n",
    "y_pred = model.predict(x_test)\n",
    "print('Predicted y:',y_pred[0][0])"
   ]
  },
  {
   "cell_type": "code",
   "execution_count": null,
   "id": "1879fd54",
   "metadata": {},
   "outputs": [],
   "source": []
  }
 ],
 "metadata": {
  "kernelspec": {
   "display_name": "Python 3 (ipykernel)",
   "language": "python",
   "name": "python3"
  },
  "language_info": {
   "codemirror_mode": {
    "name": "ipython",
    "version": 3
   },
   "file_extension": ".py",
   "mimetype": "text/x-python",
   "name": "python",
   "nbconvert_exporter": "python",
   "pygments_lexer": "ipython3",
   "version": "3.9.17"
  }
 },
 "nbformat": 4,
 "nbformat_minor": 5
}
