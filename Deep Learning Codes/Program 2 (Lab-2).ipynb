{
 "cells": [
  {
   "cell_type": "markdown",
   "id": "14c86855",
   "metadata": {},
   "source": [
    "# Program 2 (Lab-2) "
   ]
  },
  {
   "cell_type": "markdown",
   "id": "daa66489",
   "metadata": {},
   "source": [
    "Using Tensorflow Build a network with a single hidden layer and at least 300,000 trainable parameters."
   ]
  },
  {
   "cell_type": "code",
   "execution_count": 1,
   "id": "8ff710f6",
   "metadata": {},
   "outputs": [
    {
     "name": "stdout",
     "output_type": "stream",
     "text": [
      "Model: \"sequential\"\n",
      "_________________________________________________________________\n",
      "Layer (type)                 Output Shape              Param #   \n",
      "=================================================================\n",
      "dense (Dense)                (None, 150000)            300000    \n",
      "_________________________________________________________________\n",
      "dense_1 (Dense)              (None, 1)                 150001    \n",
      "=================================================================\n",
      "Total params: 450,001\n",
      "Trainable params: 450,001\n",
      "Non-trainable params: 0\n",
      "_________________________________________________________________\n"
     ]
    }
   ],
   "source": [
    "import tensorflow as tf\n",
    "from tensorflow.keras.layers import Dense\n",
    "\n",
    "# Number of neurons in the hidden layer\n",
    "hidden_neurons = 150000\n",
    "\n",
    "# Build the neural network\n",
    "model = tf.keras.Sequential([\n",
    "    Dense(hidden_neurons, activation='relu', input_shape=(1,)),\n",
    "    Dense(1)\n",
    "])\n",
    "\n",
    "# Compile the model\n",
    "model.compile(optimizer='adam', loss='mean_squared_error')\n",
    "\n",
    "# Print model summary to see trainable parameters\n",
    "model.summary()"
   ]
  },
  {
   "cell_type": "code",
   "execution_count": null,
   "id": "da9522ac",
   "metadata": {},
   "outputs": [],
   "source": []
  }
 ],
 "metadata": {
  "kernelspec": {
   "display_name": "Python 3 (ipykernel)",
   "language": "python",
   "name": "python3"
  },
  "language_info": {
   "codemirror_mode": {
    "name": "ipython",
    "version": 3
   },
   "file_extension": ".py",
   "mimetype": "text/x-python",
   "name": "python",
   "nbconvert_exporter": "python",
   "pygments_lexer": "ipython3",
   "version": "3.9.17"
  }
 },
 "nbformat": 4,
 "nbformat_minor": 5
}
