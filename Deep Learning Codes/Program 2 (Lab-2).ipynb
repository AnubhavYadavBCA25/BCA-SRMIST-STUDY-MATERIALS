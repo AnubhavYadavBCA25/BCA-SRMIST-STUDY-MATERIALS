{
 "cells": [
  {
   "cell_type": "markdown",
   "id": "1de73601",
   "metadata": {},
   "source": [
    "# Program 2 (Lab-2) "
   ]
  },
  {
   "cell_type": "markdown",
   "id": "e7009adb",
   "metadata": {},
   "source": [
    "Using Tensorflow Build a network with a single hidden layer and at least 300,000 trainable parameters."
   ]
  },
  {
   "cell_type": "code",
   "execution_count": 1,
   "id": "e62fbf40",
   "metadata": {},
   "outputs": [],
   "source": [
    "import tensorflow as tf\n",
    "import numpy as np"
   ]
  },
  {
   "cell_type": "code",
   "execution_count": 2,
   "id": "21b4ccdc",
   "metadata": {},
   "outputs": [],
   "source": [
    "num_samples = 1000\n",
    "x_train = np.random.rand(num_samples,1)\n",
    "y_train = 5 * x_train - 3 + np.random.randn(num_samples,1)*0.1"
   ]
  },
  {
   "cell_type": "code",
   "execution_count": 3,
   "id": "f6cb133b",
   "metadata": {},
   "outputs": [],
   "source": [
    "model = tf.keras.Sequential([\n",
    "    tf.keras.layers.Dense(units=100,activation='relu',input_shape=(1,)),\n",
    "    tf.keras.layers.Dense(units=100,activation='relu'),\n",
    "    tf.keras.layers.Dense(units=1)\n",
    "])"
   ]
  },
  {
   "cell_type": "code",
   "execution_count": 4,
   "id": "77c50b0d",
   "metadata": {},
   "outputs": [],
   "source": [
    "model.compile(optimizer='adam',loss='mean_squared_error')"
   ]
  },
  {
   "cell_type": "code",
   "execution_count": 5,
   "id": "fa5a05ec",
   "metadata": {},
   "outputs": [
    {
     "data": {
      "text/plain": [
       "<keras.callbacks.History at 0x18021f643a0>"
      ]
     },
     "execution_count": 5,
     "metadata": {},
     "output_type": "execute_result"
    }
   ],
   "source": [
    "model.fit(x_train,y_train,epochs=100,verbose=0)"
   ]
  },
  {
   "cell_type": "code",
   "execution_count": 6,
   "id": "d40fe571",
   "metadata": {},
   "outputs": [],
   "source": [
    "x_test = np.array([[0.5],[0.8]])\n",
    "y_pred = model.predict(x_test)"
   ]
  },
  {
   "cell_type": "code",
   "execution_count": 7,
   "id": "21448a45",
   "metadata": {},
   "outputs": [
    {
     "name": "stdout",
     "output_type": "stream",
     "text": [
      "Predicted y for x=0.5: -0.4796328\n",
      "Predicted y for x=0.8: 1.0175624\n"
     ]
    }
   ],
   "source": [
    "print('Predicted y for x=0.5:',y_pred[0][0])\n",
    "print('Predicted y for x=0.8:',y_pred[1][0])"
   ]
  },
  {
   "cell_type": "code",
   "execution_count": null,
   "id": "ffd29d82",
   "metadata": {},
   "outputs": [],
   "source": []
  }
 ],
 "metadata": {
  "kernelspec": {
   "display_name": "Python 3 (ipykernel)",
   "language": "python",
   "name": "python3"
  },
  "language_info": {
   "codemirror_mode": {
    "name": "ipython",
    "version": 3
   },
   "file_extension": ".py",
   "mimetype": "text/x-python",
   "name": "python",
   "nbconvert_exporter": "python",
   "pygments_lexer": "ipython3",
   "version": "3.9.17"
  }
 },
 "nbformat": 4,
 "nbformat_minor": 5
}
